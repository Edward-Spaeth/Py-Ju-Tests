{
 "cells": [
  {
   "cell_type": "code",
   "execution_count": 1,
   "id": "156d40bc-050c-4de4-82a2-499e157b52d0",
   "metadata": {
    "jupyter": {
     "source_hidden": true
    },
    "tags": []
   },
   "outputs": [],
   "source": [
    "\n",
    "#def Fib (n):\n",
    "#    if (n <= 1):\n",
    "        \n",
    "#        return n\n",
    "    \n",
    "#    else:\n",
    "#        return Fib (n-1) + Fib (n-2)\n",
    "\n",
    "\n",
    "\n",
    "\n",
    "#def main ():\n",
    "    \n",
    "  \n",
    "#    for n in range (0, 7):\n",
    "#        print (\"Die\", n, \"-te Fibonacci Zahl ist\", Fib (n))\n",
    "\n",
    "\n",
    "\n",
    "#if __name__ == \"__main__\":\n",
    "#   main ()"
   ]
  },
  {
   "cell_type": "code",
   "execution_count": 2,
   "id": "78b735d7-a7b9-446e-bbd7-c5f447036886",
   "metadata": {},
   "outputs": [
    {
     "ename": "NameError",
     "evalue": "name 'Fib' is not defined",
     "output_type": "error",
     "traceback": [
      "\u001b[0;31m---------------------------------------------------------------------------\u001b[0m",
      "\u001b[0;31mNameError\u001b[0m                                 Traceback (most recent call last)",
      "Input \u001b[0;32mIn [2]\u001b[0m, in \u001b[0;36m<cell line: 1>\u001b[0;34m()\u001b[0m\n\u001b[1;32m      1\u001b[0m \u001b[38;5;28;01mfor\u001b[39;00m n \u001b[38;5;129;01min\u001b[39;00m \u001b[38;5;28mrange\u001b[39m (\u001b[38;5;241m0\u001b[39m, \u001b[38;5;241m7\u001b[39m):\n\u001b[0;32m----> 2\u001b[0m         \u001b[38;5;28mprint\u001b[39m (\u001b[38;5;124m\"\u001b[39m\u001b[38;5;124mDie\u001b[39m\u001b[38;5;124m\"\u001b[39m, n, \u001b[38;5;124m\"\u001b[39m\u001b[38;5;124m-te Fibonacci Zahl ist\u001b[39m\u001b[38;5;124m\"\u001b[39m, \u001b[43mFib\u001b[49m (n))\n",
      "\u001b[0;31mNameError\u001b[0m: name 'Fib' is not defined"
     ]
    }
   ],
   "source": [
    "for n in range (0, 7):\n",
    "        print (\"Die\", n, \"-te Fibonacci Zahl ist\", Fib (n))"
   ]
  },
  {
   "cell_type": "code",
   "execution_count": 2,
   "id": "ceea83c0-068b-46a2-b7a1-afb4ff92c261",
   "metadata": {},
   "outputs": [],
   "source": [
    "def Fib (n):\n",
    "    if (n <= 1):\n",
    "        \n",
    "        return n\n",
    "    else:\n",
    "        return Fib (n-1) + Fib (n-2)"
   ]
  },
  {
   "cell_type": "code",
   "execution_count": 3,
   "id": "fe49208f-a38e-494d-bcee-d35c18820879",
   "metadata": {},
   "outputs": [],
   "source": [
    "import graphviz"
   ]
  },
  {
   "cell_type": "code",
   "execution_count": null,
   "id": "e545418c-6f29-404a-971e-65129973d717",
   "metadata": {},
   "outputs": [],
   "source": []
  },
  {
   "cell_type": "code",
   "execution_count": null,
   "id": "25493a5e-612f-4378-8cd2-2704c45842cb",
   "metadata": {},
   "outputs": [],
   "source": []
  }
 ],
 "metadata": {
  "kernelspec": {
   "display_name": "Python 3 (ipykernel)",
   "language": "python",
   "name": "python3"
  },
  "language_info": {
   "codemirror_mode": {
    "name": "ipython",
    "version": 3
   },
   "file_extension": ".py",
   "mimetype": "text/x-python",
   "name": "python",
   "nbconvert_exporter": "python",
   "pygments_lexer": "ipython3",
   "version": "3.9.12"
  }
 },
 "nbformat": 4,
 "nbformat_minor": 5
}
