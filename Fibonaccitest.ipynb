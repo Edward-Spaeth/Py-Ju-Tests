{
 "cells": [
  {
   "cell_type": "code",
   "execution_count": 1,
   "id": "156d40bc-050c-4de4-82a2-499e157b52d0",
   "metadata": {
    "jupyter": {
     "source_hidden": true
    },
    "tags": []
   },
   "outputs": [],
   "source": [
    "\n",
    "#def Fib (n):\n",
    "#    if (n <= 1):\n",
    "        \n",
    "#        return n\n",
    "    \n",
    "#    else:\n",
    "#        return Fib (n-1) + Fib (n-2)\n",
    "\n",
    "\n",
    "\n",
    "\n",
    "#def main ():\n",
    "    \n",
    "  \n",
    "#    for n in range (0, 7):\n",
    "#        print (\"Die\", n, \"-te Fibonacci Zahl ist\", Fib (n))\n",
    "\n",
    "\n",
    "\n",
    "#if __name__ == \"__main__\":\n",
    "#   main ()"
   ]
  },
  {
   "cell_type": "code",
   "execution_count": 4,
   "id": "ceea83c0-068b-46a2-b7a1-afb4ff92c261",
   "metadata": {},
   "outputs": [],
   "source": [
    "def Fib (n):\n",
    "    if (n <= 1):\n",
    "        \n",
    "        return n\n",
    "    else:\n",
    "        return Fib (n-1) + Fib (n-2)"
   ]
  },
  {
   "cell_type": "code",
   "execution_count": 5,
   "id": "78b735d7-a7b9-446e-bbd7-c5f447036886",
   "metadata": {},
   "outputs": [
    {
     "name": "stdout",
     "output_type": "stream",
     "text": [
      "Die 0 -te Fibonacci Zahl ist 0\n",
      "Die 1 -te Fibonacci Zahl ist 1\n",
      "Die 2 -te Fibonacci Zahl ist 1\n",
      "Die 3 -te Fibonacci Zahl ist 2\n",
      "Die 4 -te Fibonacci Zahl ist 3\n",
      "Die 5 -te Fibonacci Zahl ist 5\n",
      "Die 6 -te Fibonacci Zahl ist 8\n"
     ]
    }
   ],
   "source": [
    "for n in range (0, 7):\n",
    "        print (\"Die\", n, \"-te Fibonacci Zahl ist\", Fib (n))"
   ]
  },
  {
   "cell_type": "code",
   "execution_count": 6,
   "id": "fe49208f-a38e-494d-bcee-d35c18820879",
   "metadata": {},
   "outputs": [],
   "source": [
    "import graphviz"
   ]
  },
  {
   "cell_type": "code",
   "execution_count": null,
   "id": "e545418c-6f29-404a-971e-65129973d717",
   "metadata": {},
   "outputs": [],
   "source": []
  },
  {
   "cell_type": "code",
   "execution_count": null,
   "id": "25493a5e-612f-4378-8cd2-2704c45842cb",
   "metadata": {},
   "outputs": [],
   "source": []
  }
 ],
 "metadata": {
  "kernelspec": {
   "display_name": "Python 3 (ipykernel)",
   "language": "python",
   "name": "python3"
  },
  "language_info": {
   "codemirror_mode": {
    "name": "ipython",
    "version": 3
   },
   "file_extension": ".py",
   "mimetype": "text/x-python",
   "name": "python",
   "nbconvert_exporter": "python",
   "pygments_lexer": "ipython3",
   "version": "3.9.12"
  }
 },
 "nbformat": 4,
 "nbformat_minor": 5
}
